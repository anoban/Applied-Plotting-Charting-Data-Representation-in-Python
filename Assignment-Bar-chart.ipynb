{
 "cells": [
  {
   "cell_type": "code",
   "execution_count": 5,
   "id": "4fcb1335-c302-41fb-8275-9b303cfb810c",
   "metadata": {},
   "outputs": [],
   "source": [
    "import pandas as pd\n",
    "import numpy as np\n",
    "np.random.seed(12345)\n",
    "import os\n",
    "import matplotlib.pyplot as plt\n",
    "from matplotlib.colors import cnames\n",
    "from matplotlib import cm\n",
    "from scipy.stats import t\n",
    "import random"
   ]
  },
  {
   "cell_type": "markdown",
   "id": "e9fd0fd8-f8fe-4146-9c5e-83e6e6e16f23",
   "metadata": {},
   "source": [
    "# ***Example barcharts***\n",
    "<img src = \"./Assignment3Fig1.png\" height=\"500\" width=\"500\"> <img src = \"./Assignment3Fig2c.png\" height=\"500\" width=\"500\">"
   ]
  },
  {
   "cell_type": "code",
   "execution_count": 6,
   "id": "ccc74e29-545a-4c6a-a466-f682abee3e62",
   "metadata": {},
   "outputs": [
    {
     "data": {
      "text/html": [
       "<div>\n",
       "<style scoped>\n",
       "    .dataframe tbody tr th:only-of-type {\n",
       "        vertical-align: middle;\n",
       "    }\n",
       "\n",
       "    .dataframe tbody tr th {\n",
       "        vertical-align: top;\n",
       "    }\n",
       "\n",
       "    .dataframe thead th {\n",
       "        text-align: right;\n",
       "    }\n",
       "</style>\n",
       "<table border=\"1\" class=\"dataframe\">\n",
       "  <thead>\n",
       "    <tr style=\"text-align: right;\">\n",
       "      <th></th>\n",
       "      <th>0</th>\n",
       "      <th>1</th>\n",
       "      <th>2</th>\n",
       "      <th>3</th>\n",
       "      <th>4</th>\n",
       "      <th>5</th>\n",
       "      <th>6</th>\n",
       "      <th>7</th>\n",
       "      <th>8</th>\n",
       "      <th>9</th>\n",
       "      <th>...</th>\n",
       "      <th>3640</th>\n",
       "      <th>3641</th>\n",
       "      <th>3642</th>\n",
       "      <th>3643</th>\n",
       "      <th>3644</th>\n",
       "      <th>3645</th>\n",
       "      <th>3646</th>\n",
       "      <th>3647</th>\n",
       "      <th>3648</th>\n",
       "      <th>3649</th>\n",
       "    </tr>\n",
       "  </thead>\n",
       "  <tbody>\n",
       "    <tr>\n",
       "      <th>1992</th>\n",
       "      <td>-8941.531897</td>\n",
       "      <td>127788.667612</td>\n",
       "      <td>-71887.743011</td>\n",
       "      <td>-79146.060869</td>\n",
       "      <td>425156.114501</td>\n",
       "      <td>310681.166595</td>\n",
       "      <td>50581.575349</td>\n",
       "      <td>88349.230566</td>\n",
       "      <td>185804.513522</td>\n",
       "      <td>281286.947277</td>\n",
       "      <td>...</td>\n",
       "      <td>171938.760289</td>\n",
       "      <td>150650.759924</td>\n",
       "      <td>203663.976475</td>\n",
       "      <td>-377877.158072</td>\n",
       "      <td>-197214.093861</td>\n",
       "      <td>24185.008589</td>\n",
       "      <td>-56826.729535</td>\n",
       "      <td>-67319.766489</td>\n",
       "      <td>113377.299342</td>\n",
       "      <td>-4494.878538</td>\n",
       "    </tr>\n",
       "    <tr>\n",
       "      <th>1993</th>\n",
       "      <td>-51896.094813</td>\n",
       "      <td>198350.518755</td>\n",
       "      <td>-123518.252821</td>\n",
       "      <td>-129916.759685</td>\n",
       "      <td>216119.147314</td>\n",
       "      <td>49845.883728</td>\n",
       "      <td>149135.648505</td>\n",
       "      <td>62807.672113</td>\n",
       "      <td>23365.577348</td>\n",
       "      <td>-109686.264981</td>\n",
       "      <td>...</td>\n",
       "      <td>-44566.520071</td>\n",
       "      <td>101032.122475</td>\n",
       "      <td>117648.199945</td>\n",
       "      <td>160475.622607</td>\n",
       "      <td>-13759.888342</td>\n",
       "      <td>-37333.493572</td>\n",
       "      <td>103019.841174</td>\n",
       "      <td>179746.127403</td>\n",
       "      <td>13455.493990</td>\n",
       "      <td>34442.898855</td>\n",
       "    </tr>\n",
       "    <tr>\n",
       "      <th>1994</th>\n",
       "      <td>152336.932066</td>\n",
       "      <td>192947.128056</td>\n",
       "      <td>389950.263156</td>\n",
       "      <td>-93006.152024</td>\n",
       "      <td>100818.575896</td>\n",
       "      <td>5529.230706</td>\n",
       "      <td>-32989.370488</td>\n",
       "      <td>223942.967178</td>\n",
       "      <td>-66721.580898</td>\n",
       "      <td>47826.269111</td>\n",
       "      <td>...</td>\n",
       "      <td>165085.806360</td>\n",
       "      <td>74735.174090</td>\n",
       "      <td>107329.726875</td>\n",
       "      <td>199250.734156</td>\n",
       "      <td>-36792.202754</td>\n",
       "      <td>-71861.846997</td>\n",
       "      <td>26375.113219</td>\n",
       "      <td>-29328.078384</td>\n",
       "      <td>65858.761714</td>\n",
       "      <td>-91542.001049</td>\n",
       "    </tr>\n",
       "    <tr>\n",
       "      <th>1995</th>\n",
       "      <td>-69708.439062</td>\n",
       "      <td>-13289.977022</td>\n",
       "      <td>-30178.390991</td>\n",
       "      <td>55052.181256</td>\n",
       "      <td>152883.621657</td>\n",
       "      <td>12930.835194</td>\n",
       "      <td>63700.461932</td>\n",
       "      <td>64148.489835</td>\n",
       "      <td>-29316.268556</td>\n",
       "      <td>59645.677367</td>\n",
       "      <td>...</td>\n",
       "      <td>-13901.388118</td>\n",
       "      <td>50173.686673</td>\n",
       "      <td>53965.990717</td>\n",
       "      <td>4128.990173</td>\n",
       "      <td>72202.595138</td>\n",
       "      <td>39937.199964</td>\n",
       "      <td>139472.114293</td>\n",
       "      <td>59386.186379</td>\n",
       "      <td>73362.229590</td>\n",
       "      <td>28705.082908</td>\n",
       "    </tr>\n",
       "  </tbody>\n",
       "</table>\n",
       "<p>4 rows × 3650 columns</p>\n",
       "</div>"
      ],
      "text/plain": [
       "               0              1              2              3     \\\n",
       "1992   -8941.531897  127788.667612  -71887.743011  -79146.060869   \n",
       "1993  -51896.094813  198350.518755 -123518.252821 -129916.759685   \n",
       "1994  152336.932066  192947.128056  389950.263156  -93006.152024   \n",
       "1995  -69708.439062  -13289.977022  -30178.390991   55052.181256   \n",
       "\n",
       "               4              5              6              7     \\\n",
       "1992  425156.114501  310681.166595   50581.575349   88349.230566   \n",
       "1993  216119.147314   49845.883728  149135.648505   62807.672113   \n",
       "1994  100818.575896    5529.230706  -32989.370488  223942.967178   \n",
       "1995  152883.621657   12930.835194   63700.461932   64148.489835   \n",
       "\n",
       "               8              9     ...           3640           3641  \\\n",
       "1992  185804.513522  281286.947277  ...  171938.760289  150650.759924   \n",
       "1993   23365.577348 -109686.264981  ...  -44566.520071  101032.122475   \n",
       "1994  -66721.580898   47826.269111  ...  165085.806360   74735.174090   \n",
       "1995  -29316.268556   59645.677367  ...  -13901.388118   50173.686673   \n",
       "\n",
       "               3642           3643           3644          3645  \\\n",
       "1992  203663.976475 -377877.158072 -197214.093861  24185.008589   \n",
       "1993  117648.199945  160475.622607  -13759.888342 -37333.493572   \n",
       "1994  107329.726875  199250.734156  -36792.202754 -71861.846997   \n",
       "1995   53965.990717    4128.990173   72202.595138  39937.199964   \n",
       "\n",
       "               3646           3647           3648          3649  \n",
       "1992  -56826.729535  -67319.766489  113377.299342  -4494.878538  \n",
       "1993  103019.841174  179746.127403   13455.493990  34442.898855  \n",
       "1994   26375.113219  -29328.078384   65858.761714 -91542.001049  \n",
       "1995  139472.114293   59386.186379   73362.229590  28705.082908  \n",
       "\n",
       "[4 rows x 3650 columns]"
      ]
     },
     "execution_count": 6,
     "metadata": {},
     "output_type": "execute_result"
    }
   ],
   "source": [
    "df = pd.DataFrame([np.random.normal(32000,200000,3650), \n",
    "                   np.random.normal(43000,100000,3650), \n",
    "                   np.random.normal(43500,140000,3650), \n",
    "                   np.random.normal(48000,70000,3650)], \n",
    "                  index=[1992,1993,1994,1995])\n",
    "df"
   ]
  },
  {
   "cell_type": "markdown",
   "id": "6e2925d2-84f2-426b-a916-70cc8142cf60",
   "metadata": {},
   "source": [
    "# **Confidence interval = $(m - t\\frac{s}{\\sqrt{N}}), (m + t\\frac{s}{\\sqrt{N}})$**"
   ]
  },
  {
   "cell_type": "code",
   "execution_count": 7,
   "id": "6b999f73-6c4a-4288-bc58-af9c74e002e9",
   "metadata": {},
   "outputs": [
    {
     "data": {
      "text/plain": [
       "(array([26801.16945753, 38668.6046967 , 34937.9753498 , 45478.98967837]),\n",
       " array([39823.04549356, 45055.11438545, 44048.634533  , 50008.11226016]))"
      ]
     },
     "execution_count": 7,
     "metadata": {},
     "output_type": "execute_result"
    }
   ],
   "source": [
    "yearly_means = df.T.mean(axis = 0).values\n",
    "labs = df.T.columns\n",
    "\n",
    "# yearly means \n",
    "ave = df.T.mean(axis = 0).values\n",
    "\n",
    "# yearly standard deviations\n",
    "sd = df.T.std(axis = 0).values\n",
    "\n",
    "# degrees of freedom\n",
    "dof = df.shape[1] - 1\n",
    "\n",
    "# confidence \n",
    "cnfd = 0.95\n",
    "\n",
    "alpha = (1 - cnfd) / 2\n",
    "\n",
    "# getting the T value for the alpha at specified degrees of freedom\n",
    "t_val = np.abs(t.ppf(alpha, dof))\n",
    "\n",
    "# population size\n",
    "N = df.shape[1]\n",
    "\n",
    "cond_int = (ave - (t_val * sd / np.sqrt(N))), (ave + (t_val * sd / np.sqrt(N)))\n",
    "cond_int"
   ]
  },
  {
   "cell_type": "code",
   "execution_count": 8,
   "id": "98b30645-0481-4835-9928-2a3b434f5c80",
   "metadata": {},
   "outputs": [
    {
     "data": {
      "text/plain": [
       "array([6510.93801801, 3193.25484438, 4555.3295916 , 2264.56129089])"
      ]
     },
     "execution_count": 8,
     "metadata": {},
     "output_type": "execute_result"
    }
   ],
   "source": [
    "err_bar = (cond_int[1] - cond_int[0]) / 2\n",
    "err_bar"
   ]
  },
  {
   "cell_type": "code",
   "execution_count": 9,
   "id": "d596e7d8-305c-464b-898b-f9c37d1a7434",
   "metadata": {},
   "outputs": [],
   "source": [
    "def computeConfidInt(table, confidence_level):\n",
    "    \"\"\"\n",
    "    Computes the confidence intervals for each column of the table at specified confidence level!\n",
    "    The data table must not contain non-numeric columns!\n",
    "    Returns a 2,N dimensioned numpy array, first row -> lower confidence intervals & second row -> upper confidence intervals!\n",
    "    \"\"\"\n",
    "    ave = table.mean(axis = 0).values  # column means\n",
    "    sd = table.std(axis = 0).values    # column standard deviations\n",
    "    dof = table.shape[0] - 1           # degrees of freedom = number of rows - 1\n",
    "    alpha = (1 - confidence_level) / 2\n",
    "    t_val = np.abs(t.ppf(alpha, dof))  # t value\n",
    "    N = table.shape[0]                 # population size\n",
    "    confd_int = (ave - (t_val * sd / np.sqrt(N))), (ave + (t_val * sd / np.sqrt(N)))\n",
    "    return np.array(confd_int)"
   ]
  },
  {
   "cell_type": "code",
   "execution_count": 10,
   "id": "d3e31d67-fd88-4ce5-8de8-14a52549d773",
   "metadata": {},
   "outputs": [
    {
     "data": {
      "text/plain": [
       "array([[26801.16945753, 38668.6046967 , 34937.9753498 , 45478.98967837],\n",
       "       [39823.04549356, 45055.11438545, 44048.634533  , 50008.11226016]])"
      ]
     },
     "execution_count": 10,
     "metadata": {},
     "output_type": "execute_result"
    }
   ],
   "source": [
    "computeConfidInt(df.T, 0.95)"
   ]
  },
  {
   "cell_type": "code",
   "execution_count": 11,
   "id": "a85ca75a-6309-4d05-a2e2-9357d448dcef",
   "metadata": {},
   "outputs": [],
   "source": [
    "def genColorList(cutoff, confidence_interval):\n",
    "    \"\"\"\n",
    "    Returns a list of colours based on where the the specified cutoff value falls compared to \n",
    "    the confidence intervals passed!\n",
    "    All arguments must be numeric!\n",
    "    The argument confidence_interval must be a 2,N dimensioned iterable with first row containing the lower confidence intervals \n",
    "    and the second row containing upper confidence intervals!\n",
    "    If the cutoff is above the upper confidence interval, the colour will be blue!, if it is below the lower confidence interval\n",
    "    the colour will be red! If it falls between the lower & upper confidence intervals, then the colour will be white!\n",
    "    \"\"\"\n",
    "    clrs = list()\n",
    "    for i in range(0, len(confidence_interval[0]), 1):\n",
    "        if cutoff > confidence_interval[1][i]:\n",
    "            clrs.append(\"blue\")\n",
    "        elif cutoff < confidence_interval[0][i]:\n",
    "            clrs.append(\"red\")\n",
    "        elif (cutoff < confidence_interval[1][i]) and (cutoff > confidence_interval[0][i]):\n",
    "            clrs.append(\"white\")\n",
    "    return clrs"
   ]
  },
  {
   "cell_type": "code",
   "execution_count": 12,
   "id": "fad21bbe-4918-485e-99ad-2f20c6b2678a",
   "metadata": {
    "jupyter": {
     "source_hidden": true
    },
    "tags": []
   },
   "outputs": [],
   "source": [
    "def drawBars(cutoff, table, confidLvl = 0.95):\n",
    "    \"\"\"\n",
    "    Returns figure and axes objects for a matplotlib bar chart for the provided table!\n",
    "    All columns must be numeric!\n",
    "    All column names must also be numeric!\n",
    "    \"\"\"\n",
    "    Confidence = computeConfidInt(table = table, confidence_level = confidLvl)\n",
    "    errBar = (Confidence[1] - Confidence[0]) / 2\n",
    "    colMeans = table.mean(axis = 0)\n",
    "    cols = genColorList(cutoff = cutoff, confidence_interval = Confidence)\n",
    "    xlabs = table.columns.astype(int)\n",
    "    \n",
    "    fig = plt.figure(figsize = (6, 6), dpi = 100)\n",
    "    axes = fig.add_subplot(111)\n",
    "    axes.bar(x = xlabs, height = colMeans, width = 0.85, color = cols, yerr = errBar, capsize = 12, edgecolor = \"black\")\n",
    "    axes.hlines(y = cutoff, xmin = xlabs.min() - 0.5, xmax = xlabs.max() + 0.5, color = \"black\", linestyle = \"-\")\n",
    "    axes.set_xticks(xlabs)\n",
    "    return fig, axes"
   ]
  },
  {
   "cell_type": "code",
   "execution_count": 13,
   "id": "946a3150-bc42-415d-bf43-f11f2c4faa49",
   "metadata": {},
   "outputs": [
    {
     "data": {
      "image/png": "[encoded data removed]",
      "text/plain": [
       "<Figure size 600x600 with 1 Axes>"
      ]
     },
     "metadata": {},
     "output_type": "display_data"
    }
   ],
   "source": [
    "fig, axes = drawBars(cutoff = 44000, table = df.T, confidLvl = 0.95)\n",
    "axes.plot()\n",
    "plt.show()"
   ]
  },
  {
   "cell_type": "code",
   "execution_count": 189,
   "id": "e2d79884-4a1d-441f-9d5f-c15316d68da2",
   "metadata": {},
   "outputs": [],
   "source": [
    "def genColorGradient(cutoff, confidence_intervals):\n",
    "    \"\"\"\n",
    "    Returns a list of numbers between the range 0 & 1 as a score scheme for colouring the bars!\n",
    "    Scores are given based on how the cutoff compares to each column's upper & lower confidence intervals!\n",
    "    If the cutoff is above the upper confidence interval, a score of 0 is given regardless of the degree of difference!\n",
    "    If the cutoff is below the lower confidence interval, a score of 1 is given regardless of the degree of difference!\n",
    "    If the cutoff falls within the confidence intervals, a score is calculated by dividing the absolute value of\n",
    "    |difference between column mean and size of confidence interval| by the size of confidence interval!\n",
    "    \"\"\"\n",
    "    colScore = list()\n",
    "    err_heights = (confidence_intervals[1] - confidence_intervals[0])\n",
    "    \n",
    "    for i in range(0, len(confidence_intervals[0]), 1):\n",
    "        if cutoff > confidence_intervals[1][i]:\n",
    "            colScore.append(0)\n",
    "        elif cutoff < confidence_intervals[0][i]:\n",
    "            colScore.append(0.9999999) # using 1 shifts the cmap back to start colour :(\n",
    "        elif (cutoff <= confidence_intervals[1][i]) and (cutoff >= confidence_intervals[0][i]):\n",
    "            colScore.append((confidence_intervals[1][i] - cutoff) / err_heights[i])\n",
    "    return colScore"
   ]
  },
  {
   "cell_type": "code",
   "execution_count": 191,
   "id": "9223e1d7-b2a3-4d2b-b434-ef179a24c612",
   "metadata": {},
   "outputs": [
    {
     "data": {
      "text/plain": [
       "[0, 0.16520986217381534, 0.005338201333503705, 0.9999999]"
      ]
     },
     "execution_count": 191,
     "metadata": {},
     "output_type": "execute_result"
    }
   ],
   "source": [
    "genColorGradient(cutoff = 44000, confidence_intervals = computeConfidInt(df.T, 0.95))"
   ]
  },
  {
   "cell_type": "code",
   "execution_count": 267,
   "id": "ec6f958a-73de-4d39-aaae-94adf00201ae",
   "metadata": {},
   "outputs": [],
   "source": [
    "def drawBars(cutoff, table, confidLvl = 0.95):\n",
    "    \"\"\"\n",
    "    Returns figure and axes objects for a matplotlib bar chart for the provided table!\n",
    "    All columns must be numeric!\n",
    "    All column names must also be numeric!\n",
    "    \"\"\"\n",
    "    Confidence = computeConfidInt(table = table, confidence_level = confidLvl)\n",
    "    errBar = (Confidence[1] - Confidence[0]) / 2\n",
    "    colMeans = table.mean(axis = 0).values\n",
    "    colScore = genColorGradient(cutoff = cutoff, confidence_intervals = Confidence)\n",
    "    cols = [cm.get_cmap(\"seismic\")(i) for i in colScore]\n",
    "    xlabs = table.columns.astype(int)\n",
    "    \n",
    "    fig = plt.figure(figsize = (6, 7), dpi = 100)\n",
    "    axes = fig.add_subplot(111)\n",
    "    axes.bar(x = xlabs, height = colMeans, width = 0.85, color = cols, yerr = errBar, capsize = 12, edgecolor = \"black\")\n",
    "    axes.hlines(y = cutoff, xmin = xlabs.min() - 0.5, xmax = xlabs.max() + 0.5, color = \"black\", linestyle = \"dashdot\")\n",
    "    axes.set_xticks(xlabs)\n",
    "    plt.text(s = cutoff, x = xlabs.min() - 0.65, y = cutoff + 1000, fontdict = {'family':'serif', 'color':'black', 'weight':'normal', 'size':12})\n",
    "    smap = cm.ScalarMappable(cmap = cm.get_cmap(\"seismic\"), norm = plt.Normalize(0, 1))\n",
    "    smap.set_array([])\n",
    "    fig.colorbar(smap, cmap = \"seismic\", orientation = \"horizontal\", pad = 0.06)\n",
    "    return fig, axes"
   ]
  },
  {
   "cell_type": "code",
   "execution_count": 271,
   "id": "d2d987a2-37e0-403b-a2ab-4e3e8737efc3",
   "metadata": {},
   "outputs": [
    {
     "data": {
      "image/png": "[encoded data removed]",
      "text/plain": [
       "<Figure size 600x700 with 2 Axes>"
      ]
     },
     "metadata": {},
     "output_type": "display_data"
    }
   ],
   "source": [
    "fig, axes = drawBars(cutoff = 41000, table = df.T, confidLvl = 0.95)\n",
    "axes.plot()\n",
    "plt.savefig(\"./yearly.jpeg\", dpi = 200)"
   ]
  },
  {
   "cell_type": "code",
   "execution_count": 222,
   "id": "caf31fe0-220b-4df8-87be-29035a0584f3",
   "metadata": {},
   "outputs": [
    {
     "data": {
      "image/png": "[encoded data removed]",
      "text/html": [
       "<div style=\"vertical-align: middle;\"><strong>seismic</strong> </div><div class=\"cmap\"><img alt=\"seismic colormap\" title=\"seismic\" style=\"border: 1px solid #555;\" src=\"data:image/png;base64,iVBORw0KGgoAAAANSUhEUgAAAgAAAABACAYAAABsv8+/AAAAFnRFWHRUaXRsZQBzZWlzbWljIGNvbG9ybWFwjjQu/QAAABx0RVh0RGVzY3JpcHRpb24Ac2Vpc21pYyBjb2xvcm1hcCkan4QAAAAwdEVYdEF1dGhvcgBNYXRwbG90bGliIHYzLjUuMywgaHR0cHM6Ly9tYXRwbG90bGliLm9yZ2fR6JIAAAAydEVYdFNvZnR3YXJlAE1hdHBsb3RsaWIgdjMuNS4zLCBodHRwczovL21hdHBsb3RsaWIub3JnSXd3tQAAAWxJREFUeJzt1jtyg0AQQMFBn9v5/pcRyA7AgaocKLIlv+5kYHcJKALeMvPxOTMzc57HeZqf1537T+eWZb+/XI7dY/t6nYf1Z6fn3+v509z3i3V9jXm77XPb/mb/Vd77l+6Pr29G5/ffAgAIEQAAECQAACBIAABAkAAAgCABAABBAgAAggQAAAQJAAAIEgAAECQAACBIAABAkAAAgCABAABBAgAAggQAAAQJAAAIEgAAECQAACBIAABAkAAAgCABAABBAgAAggQAAAQJAAAIEgAAECQAACBIAABAkAAAgCABAABBAgAAggQAAAQJAAAIEgAAECQAACBIAABAkAAAgCABAABBAgAAggQAAAQJAAAIEgAAECQAACBIAABAkAAAgCABAABBAgAAggQAAAQJAAAIEgAAECQAACBIAABAkAAAgCABAABBAgAAggQAAAQJAAAIEgAAECQAACBIAABAkAAAgCABAABBAgAAgr4Ax93A/nYAaTAAAAAASUVORK5CYII=\"></div><div style=\"vertical-align: middle; max-width: 514px; display: flex; justify-content: space-between;\"><div style=\"float: left;\"><div title=\"#00004cff\" style=\"display: inline-block; width: 1em; height: 1em; margin: 0; vertical-align: middle; border: 1px solid #555; background-color: #00004cff;\"></div> under</div><div style=\"margin: 0 auto; display: inline-block;\">bad <div title=\"#00000000\" style=\"display: inline-block; width: 1em; height: 1em; margin: 0; vertical-align: middle; border: 1px solid #555; background-color: #00000000;\"></div></div><div style=\"float: right;\">over <div title=\"#800000ff\" style=\"display: inline-block; width: 1em; height: 1em; margin: 0; vertical-align: middle; border: 1px solid #555; background-color: #800000ff;\"></div></div>"
      ],
      "text/plain": [
       "<matplotlib.colors.LinearSegmentedColormap at 0x2213090d100>"
      ]
     },
     "execution_count": 222,
     "metadata": {},
     "output_type": "execute_result"
    }
   ],
   "source": [
    "cm.get_cmap(\"seismic\")"
   ]
  },
  {
   "cell_type": "code",
   "execution_count": 180,
   "id": "e49770c0-f2b7-41bb-81ec-6d3a722b70ca",
   "metadata": {},
   "outputs": [
    {
     "data": {
      "image/png": "[encoded data removed]",
      "text/plain": [
       "<Figure size 640x480 with 1 Axes>"
      ]
     },
     "metadata": {},
     "output_type": "display_data"
    }
   ],
   "source": [
    "plt.plot(1,1, c = cm.get_cmap(\"seismic\")(0.99), marker = \"o\", markersize  = 200)\n",
    "plt.show()"
   ]
  },
  {
   "cell_type": "code",
   "execution_count": 106,
   "id": "7033feb9-bf8c-4206-81f9-df95acf9f52e",
   "metadata": {},
   "outputs": [
    {
     "data": {
      "text/plain": [
       "[(0.0, 0.0, 1.0, 1.0),\n",
       " (1.0, 1.0, 1.0, 1.0),\n",
       " (0.0, 0.0, 1.0, 1.0),\n",
       " (0.5, 0.5, 1.0, 1.0)]"
      ]
     },
     "execution_count": 106,
     "metadata": {},
     "output_type": "execute_result"
    }
   ],
   "source": [
    "[cm.get_cmap(\"bwr\", 5)(i) for i in [0, 0.5830601163422939, 0.11123126184661224, 1]]"
   ]
  },
  {
   "cell_type": "code",
   "execution_count": 116,
   "id": "dd62e517-2486-44e2-94a3-d6179da7fa41",
   "metadata": {},
   "outputs": [
    {
     "data": {
      "image/png": "[encoded data removed]",
      "text/plain": [
       "<Figure size 2500x100 with 1 Axes>"
      ]
     },
     "metadata": {},
     "output_type": "display_data"
    }
   ],
   "source": [
    "plt.figure(figsize = (25, 1), dpi = 100)\n",
    "plt.scatter(np.arange(start = 0, stop = 1.0, step = 0.01),\n",
    "            np.zeros(shape = (1,100), dtype = float),\n",
    "            marker = \"o\", linestyle = \"None\",\n",
    "         c = np.arange(start = 0, stop = 1.0, step = 0.01), cmap = \"seismic\", s = np.arange(start = 0, stop = 1.0, step = 0.01) * 500)\n",
    "plt.ylim(-0.02, 0.02)\n",
    "plt.show()"
   ]
  },
  {
   "cell_type": "code",
   "execution_count": 156,
   "id": "10cc7bd1-2c47-431b-bad4-6405d5829263",
   "metadata": {},
   "outputs": [
    {
     "data": {
      "image/png": "[encoded data removed]",
      "text/plain": [
       "<Figure size 2500x100 with 1 Axes>"
      ]
     },
     "metadata": {},
     "output_type": "display_data"
    }
   ],
   "source": [
    "plt.figure(figsize = (25, 1), dpi = 100)\n",
    "plt.scatter([0, 0.5830601163422939, 0.11123126184661224, 1],\n",
    "            np.zeros(shape = (1,4), dtype = float),\n",
    "            marker = \"o\", linestyle = \"None\",\n",
    "         c = [0, 0.5830601163422939, 0.11123126184661224, 1], cmap = \"seismic\", s = 500)\n",
    "plt.ylim(-0.02, 0.02)\n",
    "plt.show()"
   ]
  },
  {
   "cell_type": "code",
   "execution_count": null,
   "id": "17392bde-677b-4bc7-976c-564661d41554",
   "metadata": {},
   "outputs": [],
   "source": []
  }
 ],
 "metadata": {
  "kernelspec": {
   "display_name": "Python 3 (ipykernel)",
   "language": "python",
   "name": "python3"
  },
  "language_info": {
   "codemirror_mode": {
    "name": "ipython",
    "version": 3
   },
   "file_extension": ".py",
   "mimetype": "text/x-python",
   "name": "python",
   "nbconvert_exporter": "python",
   "pygments_lexer": "ipython3",
   "version": "3.9.6"
  }
 },
 "nbformat": 4,
 "nbformat_minor": 5
}
